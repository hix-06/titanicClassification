{
 "cells": [
  {
   "cell_type": "code",
   "execution_count": 1,
   "id": "2ed387c5-9b77-4c1c-ae87-330eced4f384",
   "metadata": {
    "tags": []
   },
   "outputs": [
    {
     "name": "stdout",
     "output_type": "stream",
     "text": [
      "   pclass  survived                                             name     sex  \\\n",
      "0     1.0       1.0                    Allen, Miss. Elisabeth Walton  female   \n",
      "1     1.0       1.0                   Allison, Master. Hudson Trevor    male   \n",
      "2     1.0       0.0                     Allison, Miss. Helen Loraine  female   \n",
      "3     1.0       0.0             Allison, Mr. Hudson Joshua Creighton    male   \n",
      "4     1.0       0.0  Allison, Mrs. Hudson J C (Bessie Waldo Daniels)  female   \n",
      "5     1.0       1.0                              Anderson, Mr. Harry    male   \n",
      "6     1.0       1.0                Andrews, Miss. Kornelia Theodosia  female   \n",
      "7     1.0       0.0                           Andrews, Mr. Thomas Jr    male   \n",
      "8     1.0       1.0    Appleton, Mrs. Edward Dale (Charlotte Lamson)  female   \n",
      "9     1.0       0.0                          Artagaveytia, Mr. Ramon    male   \n",
      "\n",
      "       age  sibsp  parch    ticket      fare    cabin embarked boat   body  \\\n",
      "0  29.0000    0.0    0.0     24160  211.3375       B5        S    2    NaN   \n",
      "1   0.9167    1.0    2.0    113781  151.5500  C22 C26        S   11    NaN   \n",
      "2   2.0000    1.0    2.0    113781  151.5500  C22 C26        S  NaN    NaN   \n",
      "3  30.0000    1.0    2.0    113781  151.5500  C22 C26        S  NaN  135.0   \n",
      "4  25.0000    1.0    2.0    113781  151.5500  C22 C26        S  NaN    NaN   \n",
      "5  48.0000    0.0    0.0     19952   26.5500      E12        S    3    NaN   \n",
      "6  63.0000    1.0    0.0     13502   77.9583       D7        S   10    NaN   \n",
      "7  39.0000    0.0    0.0    112050    0.0000      A36        S  NaN    NaN   \n",
      "8  53.0000    2.0    0.0     11769   51.4792     C101        S    D    NaN   \n",
      "9  71.0000    0.0    0.0  PC 17609   49.5042      NaN        C  NaN   22.0   \n",
      "\n",
      "                         home.dest  \n",
      "0                     St Louis, MO  \n",
      "1  Montreal, PQ / Chesterville, ON  \n",
      "2  Montreal, PQ / Chesterville, ON  \n",
      "3  Montreal, PQ / Chesterville, ON  \n",
      "4  Montreal, PQ / Chesterville, ON  \n",
      "5                     New York, NY  \n",
      "6                       Hudson, NY  \n",
      "7                      Belfast, NI  \n",
      "8              Bayside, Queens, NY  \n",
      "9              Montevideo, Uruguay  \n"
     ]
    }
   ],
   "source": [
    "import numpy as np\n",
    "import pandas as pd\n",
    "myFrame = pd.read_csv(r\"C:\\Users\\Ahmed\\Downloads\\titanic.csv\")\n",
    "print(myFrame.head(10))"
   ]
  },
  {
   "cell_type": "code",
   "execution_count": 2,
   "id": "78650e5e-0eb6-4a81-beac-46a56c0ee73a",
   "metadata": {
    "tags": []
   },
   "outputs": [
    {
     "name": "stdout",
     "output_type": "stream",
     "text": [
      "num of rows: 1310\n",
      "num of columns: 14\n",
      "<class 'pandas.core.frame.DataFrame'>\n",
      "RangeIndex: 1310 entries, 0 to 1309\n",
      "Data columns (total 14 columns):\n",
      " #   Column     Non-Null Count  Dtype  \n",
      "---  ------     --------------  -----  \n",
      " 0   pclass     1309 non-null   float64\n",
      " 1   survived   1309 non-null   float64\n",
      " 2   name       1309 non-null   object \n",
      " 3   sex        1309 non-null   object \n",
      " 4   age        1046 non-null   float64\n",
      " 5   sibsp      1309 non-null   float64\n",
      " 6   parch      1309 non-null   float64\n",
      " 7   ticket     1309 non-null   object \n",
      " 8   fare       1308 non-null   float64\n",
      " 9   cabin      295 non-null    object \n",
      " 10  embarked   1307 non-null   object \n",
      " 11  boat       486 non-null    object \n",
      " 12  body       121 non-null    float64\n",
      " 13  home.dest  745 non-null    object \n",
      "dtypes: float64(7), object(7)\n",
      "memory usage: 143.4+ KB\n",
      "None\n",
      "Index(['pclass', 'survived', 'name', 'sex', 'age', 'sibsp', 'parch', 'ticket',\n",
      "       'fare', 'cabin', 'embarked', 'boat', 'body', 'home.dest'],\n",
      "      dtype='object')\n"
     ]
    }
   ],
   "source": [
    "print(f\"num of rows: {myFrame.shape[0]}\")\n",
    "print(f\"num of columns: {myFrame.shape[1]}\")\n",
    "print(myFrame.info())\n",
    "print((pd.DataFrame(myFrame)).columns)"
   ]
  },
  {
   "cell_type": "code",
   "execution_count": 3,
   "id": "84d69789-4d92-4f4d-9670-11e633e521bb",
   "metadata": {
    "tags": []
   },
   "outputs": [
    {
     "name": "stdout",
     "output_type": "stream",
     "text": [
      "\n",
      "pclass: Passenger Class (1st, 2nd, or 3rd)\n",
      "1.0: First Class\n",
      "2.0: Second Class\n",
      "3.0: Third Class\n",
      "\n",
      "survived: Survival (0 = No, 1 = Yes)\n",
      "0.0: Did not survive\n",
      "1.0: Survived\n",
      "\n",
      "name: Passenger's Name\n",
      "\n",
      "sex: Passenger's Gender\n",
      "male: Male\n",
      "female: Female\n",
      "\n",
      "age: Passenger's Age\n",
      "\n",
      "sibsp: Number of Siblings/Spouses Aboard\n",
      "\n",
      "parch: Number of Parents/Children Aboard\n",
      "\n",
      "ticket: Ticket Number\n",
      "\n",
      "fare: Passenger Fare\n",
      "\n",
      "cabin: Cabin Number\n",
      "\n",
      "embarked: Port of Embarkation\n",
      "C: Cherbourg\n",
      "Q: Queenstown\n",
      "S: Southampton\n",
      "\n",
      "boat: Lifeboat (if survived and known)\n",
      "\n",
      "body: Body Identification Number (if did not survive)\n",
      "\n",
      "home.dest: Home/Destination\n",
      "\n"
     ]
    }
   ],
   "source": [
    "aboutSet = \"\"\"\n",
    "pclass: Passenger Class (1st, 2nd, or 3rd)\n",
    "1.0: First Class\n",
    "2.0: Second Class\n",
    "3.0: Third Class\n",
    "\n",
    "survived: Survival (0 = No, 1 = Yes)\n",
    "0.0: Did not survive\n",
    "1.0: Survived\n",
    "\n",
    "name: Passenger's Name\n",
    "\n",
    "sex: Passenger's Gender\n",
    "male: Male\n",
    "female: Female\n",
    "\n",
    "age: Passenger's Age\n",
    "\n",
    "sibsp: Number of Siblings/Spouses Aboard\n",
    "\n",
    "parch: Number of Parents/Children Aboard\n",
    "\n",
    "ticket: Ticket Number\n",
    "\n",
    "fare: Passenger Fare\n",
    "\n",
    "cabin: Cabin Number\n",
    "\n",
    "embarked: Port of Embarkation\n",
    "C: Cherbourg\n",
    "Q: Queenstown\n",
    "S: Southampton\n",
    "\n",
    "boat: Lifeboat (if survived and known)\n",
    "\n",
    "body: Body Identification Number (if did not survive)\n",
    "\n",
    "home.dest: Home/Destination\n",
    "\"\"\"\n",
    "print(f\"{aboutSet}\")"
   ]
  },
  {
   "cell_type": "code",
   "execution_count": 4,
   "id": "f55dc2c1-c22b-485d-b676-68d44595fd61",
   "metadata": {
    "tags": []
   },
   "outputs": [
    {
     "name": "stdout",
     "output_type": "stream",
     "text": [
      "pclass          1\n",
      "survived        1\n",
      "name            1\n",
      "sex             1\n",
      "age           264\n",
      "sibsp           1\n",
      "parch           1\n",
      "ticket          1\n",
      "fare            2\n",
      "cabin        1015\n",
      "embarked        3\n",
      "boat          824\n",
      "body         1189\n",
      "home.dest     565\n",
      "dtype: int64\n"
     ]
    }
   ],
   "source": [
    "print(myFrame.isnull().sum())"
   ]
  },
  {
   "cell_type": "code",
   "execution_count": 5,
   "id": "25cd06f8-369b-430c-aa41-b80865a867b7",
   "metadata": {
    "tags": []
   },
   "outputs": [
    {
     "name": "stdout",
     "output_type": "stream",
     "text": [
      "<class 'pandas.core.frame.DataFrame'>\n",
      "RangeIndex: 1310 entries, 0 to 1309\n",
      "Data columns (total 6 columns):\n",
      " #   Column    Non-Null Count  Dtype  \n",
      "---  ------    --------------  -----  \n",
      " 0   pclass    1309 non-null   float64\n",
      " 1   survived  1309 non-null   float64\n",
      " 2   sex       1309 non-null   object \n",
      " 3   age       1046 non-null   float64\n",
      " 4   sibsp     1309 non-null   float64\n",
      " 5   parch     1309 non-null   float64\n",
      "dtypes: float64(5), object(1)\n",
      "memory usage: 61.5+ KB\n",
      "None\n"
     ]
    }
   ],
   "source": [
    "haveNoEffect = [\"name\", \"ticket\", \"fare\", \"cabin\", \"embarked\", \"boat\", \"body\", \"home.dest\"]\n",
    "myFrame = myFrame.drop(haveNoEffect, axis = 1)\n",
    "print(myFrame.info())"
   ]
  },
  {
   "cell_type": "code",
   "execution_count": 6,
   "id": "7cb07159-8125-4dce-87ec-30cf24b55d9e",
   "metadata": {
    "tags": []
   },
   "outputs": [
    {
     "name": "stdout",
     "output_type": "stream",
     "text": [
      "Features with Potentially Zero Importance:\n",
      "name: The passenger's name is unlikely to have a direct impact on survival.\n",
      "cabin: While cabin location could theoretically affect survival, the cabin column has a lot of missing values, making it less useful for analysis.\n",
      "embarked: The port of embarkation might not directly influence survival, as it's more likely related to where passengers boarded the ship rather than their chances of survival.\n",
      "boat: This column indicates the lifeboat number for survivors, so it's irrelevant for predicting survival since it's only available for those who survived.\n",
      "body: This column indicates the identification number of the body if the passenger did not survive, so it's irrelevant for predicting survival as well.\n",
      "home.dest: While it provides information about the passenger's home or destination, it might not directly affect survival.\n"
     ]
    }
   ],
   "source": [
    "whyRem = '''Features with Potentially Zero Importance:\n",
    "name: The passenger's name is unlikely to have a direct impact on survival.\n",
    "cabin: While cabin location could theoretically affect survival, the cabin column has a lot of missing values, making it less useful for analysis.\n",
    "embarked: The port of embarkation might not directly influence survival, as it's more likely related to where passengers boarded the ship rather than their chances of survival.\n",
    "boat: This column indicates the lifeboat number for survivors, so it's irrelevant for predicting survival since it's only available for those who survived.\n",
    "body: This column indicates the identification number of the body if the passenger did not survive, so it's irrelevant for predicting survival as well.\n",
    "home.dest: While it provides information about the passenger's home or destination, it might not directly affect survival.'''\n",
    "print(whyRem)"
   ]
  },
  {
   "cell_type": "code",
   "execution_count": 7,
   "id": "6273d9c2-670c-4efe-bbbf-1c1baf46aee8",
   "metadata": {
    "tags": []
   },
   "outputs": [
    {
     "name": "stdout",
     "output_type": "stream",
     "text": [
      "   pclass  survived      age  sibsp  parch  sex_male\n",
      "0     1.0       1.0  29.0000    0.0    0.0         0\n",
      "1     1.0       1.0   0.9167    1.0    2.0         1\n",
      "2     1.0       0.0   2.0000    1.0    2.0         0\n",
      "3     1.0       0.0  30.0000    1.0    2.0         1\n",
      "4     1.0       0.0  25.0000    1.0    2.0         0\n"
     ]
    }
   ],
   "source": [
    "toEncode = (myFrame.select_dtypes(include = \"object\")).columns # cuz select_dtypes returns dataframe and get_dummies wants list\n",
    "myFrame = pd.get_dummies(myFrame, columns = toEncode, drop_first = True)\n",
    "print(myFrame.head())"
   ]
  },
  {
   "cell_type": "code",
   "execution_count": 8,
   "id": "35293927-176f-4046-9ac8-5dfa39228b3e",
   "metadata": {
    "tags": []
   },
   "outputs": [
    {
     "name": "stdout",
     "output_type": "stream",
     "text": [
      "pclass        1\n",
      "survived      1\n",
      "age         264\n",
      "sibsp         1\n",
      "parch         1\n",
      "sex_male      0\n",
      "dtype: int64\n",
      "pclass      0\n",
      "survived    0\n",
      "age         0\n",
      "sibsp       0\n",
      "parch       0\n",
      "sex_male    0\n",
      "dtype: int64\n"
     ]
    }
   ],
   "source": [
    "print(myFrame.isnull().sum())\n",
    "from sklearn.impute import SimpleImputer\n",
    "imputer = SimpleImputer(strategy = \"mean\")\n",
    "myFrame = pd.DataFrame(imputer.fit_transform(myFrame), columns=myFrame.columns)# SimpleImputer returns a numpy array,\n",
    "print(myFrame.isnull().sum())"
   ]
  },
  {
   "cell_type": "code",
   "execution_count": 9,
   "id": "8ccc822b-cfc1-4dd0-9f8b-03b4f39f3ca8",
   "metadata": {
    "tags": []
   },
   "outputs": [
    {
     "name": "stdout",
     "output_type": "stream",
     "text": [
      "   pclass  survived      age  sibsp  parch  sex_male\n",
      "0     1.0       1.0  29.0000    0.0    0.0       0.0\n",
      "1     1.0       1.0   0.9167    1.0    2.0       1.0\n",
      "2     1.0       0.0   2.0000    1.0    2.0       0.0\n",
      "3     1.0       0.0  30.0000    1.0    2.0       1.0\n",
      "4     1.0       0.0  25.0000    1.0    2.0       0.0\n"
     ]
    }
   ],
   "source": [
    "print(myFrame.head())"
   ]
  },
  {
   "cell_type": "code",
   "execution_count": 10,
   "id": "0fb9f4e4-2ad7-4203-82de-8a1bea1e234b",
   "metadata": {
    "tags": []
   },
   "outputs": [
    {
     "data": {
      "text/plain": [
       "<Axes: >"
      ]
     },
     "execution_count": 10,
     "metadata": {},
     "output_type": "execute_result"
    },
    {
     "data": {
      "image/png": "[encoded data removed]",
      "text/plain": [
       "<Figure size 640x480 with 2 Axes>"
      ]
     },
     "metadata": {},
     "output_type": "display_data"
    }
   ],
   "source": [
    "c = myFrame.corr()\n",
    "import seaborn as sns\n",
    "sns.heatmap(c, annot = True)"
   ]
  },
  {
   "cell_type": "code",
   "execution_count": 12,
   "id": "caa7d627-f040-4c27-b9af-a7ee398aa177",
   "metadata": {
    "tags": []
   },
   "outputs": [],
   "source": [
    "myFrame['survived'] = myFrame['survived'].astype(int) # in a logistic regression model, target shoult be discrete, \"int\""
   ]
  },
  {
   "cell_type": "code",
   "execution_count": 13,
   "id": "884eaefe-0183-429e-8289-986f51c77add",
   "metadata": {
    "tags": []
   },
   "outputs": [],
   "source": [
    "from sklearn.model_selection import train_test_split\n",
    "from sklearn.linear_model import LogisticRegression\n",
    "\n",
    "x = myFrame.drop([\"survived\"], axis = 1)\n",
    "y = myFrame[\"survived\"]\n",
    "\n",
    "xTrain, xTest, yTrain, yTest = train_test_split(x, y, test_size = 0.2, random_state = 42)\n",
    "\n",
    "model = LogisticRegression()\n",
    "model.fit(xTrain, yTrain)\n",
    "\n",
    "yPred = model.predict(xTest)"
   ]
  },
  {
   "cell_type": "code",
   "execution_count": 14,
   "id": "4c359cf6-1b3a-4843-af6e-4d2c8d0fd271",
   "metadata": {
    "tags": []
   },
   "outputs": [],
   "source": [
    "from sklearn.metrics import accuracy_score, precision_score, recall_score, f1_score\n",
    "\n",
    "def evaluatePerformance(y_true, y_pred):\n",
    "    accuracy = accuracy_score(y_true, y_pred)\n",
    "    precision = precision_score(y_true, y_pred)\n",
    "    recall = recall_score(y_true, y_pred)\n",
    "    f1 = f1_score(y_true, y_pred)\n",
    "    \n",
    "    print(f\"Accuracy: {accuracy}\")\n",
    "    print(f\"Precision: {precision}\")\n",
    "    print(f\"Recall: {recall}\")\n",
    "    print(f\"F1-score: {f1}\")"
   ]
  },
  {
   "cell_type": "code",
   "execution_count": 15,
   "id": "420e2eb8-778a-4b93-a693-95f9bbed1dd8",
   "metadata": {
    "tags": []
   },
   "outputs": [
    {
     "name": "stdout",
     "output_type": "stream",
     "text": [
      "Accuracy: 0.7824427480916031\n",
      "Precision: 0.8160919540229885\n",
      "Recall: 0.6339285714285714\n",
      "F1-score: 0.7135678391959799\n"
     ]
    }
   ],
   "source": [
    "evaluatePerformance(yTest, yPred)"
   ]
  },
  {
   "cell_type": "code",
   "execution_count": 19,
   "id": "6c64ac62-dc43-42cd-9e3c-a179bdd3eacc",
   "metadata": {
    "tags": []
   },
   "outputs": [
    {
     "name": "stdout",
     "output_type": "stream",
     "text": [
      "\n",
      " Accuracy measures the overall correctness of the predictions.\n",
      "Precision measures the proportion of true positive predictions among all positive predictions. In this case, it indicates how many of the predicted survivors actually survived.\n",
      "Recall measures the proportion of true positive predictions among all actual positive instances. In this case, it indicates how many of the actual survivors were correctly identified by the model.\n",
      "F1-score is the harmonic mean of precision and recall. It provides a balanced measure that considers both precision and recall.\n",
      "\n"
     ]
    }
   ],
   "source": [
    "clarify = \"\"\"\n",
    " Accuracy measures the overall correctness of the predictions.\n",
    "Precision measures the proportion of true positive predictions among all positive predictions. In this case, it indicates how many of the predicted survivors actually survived.\n",
    "Recall measures the proportion of true positive predictions among all actual positive instances. In this case, it indicates how many of the actual survivors were correctly identified by the model.\n",
    "F1-score is the harmonic mean of precision and recall. It provides a balanced measure that considers both precision and recall.\n",
    "\"\"\"\n",
    "print(clarify)"
   ]
  },
  {
   "cell_type": "code",
   "execution_count": 22,
   "id": "0074e132-d01c-4e2f-95ba-7e1b401cb2e4",
   "metadata": {
    "tags": []
   },
   "outputs": [
    {
     "name": "stdout",
     "output_type": "stream",
     "text": [
      "Accuracy: 0.7748091603053435\n",
      "Precision: 0.8117647058823529\n",
      "Recall: 0.6160714285714286\n",
      "F1-score: 0.700507614213198\n"
     ]
    }
   ],
   "source": [
    "from sklearn.ensemble import GradientBoostingClassifier, VotingClassifier\n",
    "gradient_model = GradientBoostingClassifier()\n",
    "\n",
    "gradient_model.fit(xTrain, yTrain)\n",
    "gradient_predictions = gradient_model.predict(xTest)\n",
    "\n",
    "voting_classifier = VotingClassifier(estimators=[('gradient', gradient_model), ('logistic', model)], voting='soft')\n",
    "voting_classifier.fit(xTrain, yTrain)\n",
    "ensemble_predictions = voting_classifier.predict(xTest)\n",
    "\n",
    "evaluatePerformance(yTest, ensemble_predictions)"
   ]
  },
  {
   "cell_type": "markdown",
   "id": "41d3374b-c924-4038-baf2-3c4e4bafc8c1",
   "metadata": {},
   "source": [
    "adjusting hyperparameters: "
   ]
  },
  {
   "cell_type": "code",
   "execution_count": 30,
   "id": "600485f2-1065-48ef-91dd-99d1166c10a5",
   "metadata": {
    "tags": []
   },
   "outputs": [
    {
     "name": "stdout",
     "output_type": "stream",
     "text": [
      "Accuracy: 0.7786259541984732\n",
      "Precision: 0.8214285714285714\n",
      "Recall: 0.6160714285714286\n",
      "F1-score: 0.7040816326530611\n"
     ]
    }
   ],
   "source": [
    "from sklearn.model_selection import GridSearchCV\n",
    "\n",
    "# Define hyperparameter grids for individual models\n",
    "gradient_params = {'learning_rate': [0.1, 0.01], 'max_depth': [2, 6]}\n",
    "logistic_params = {'C': [0.1, 1, 10]}\n",
    "\n",
    "# Perform grid search for Gradient Boosting Classifier\n",
    "gradient_grid_search = GridSearchCV(GradientBoostingClassifier(), param_grid=gradient_params, cv=5)\n",
    "gradient_grid_search.fit(xTrain, yTrain)\n",
    "best_gradient_model = gradient_grid_search.best_estimator_\n",
    "\n",
    "# Perform grid search for Logistic Regression\n",
    "logistic_grid_search = GridSearchCV(LogisticRegression(), param_grid=logistic_params, cv=5)\n",
    "logistic_grid_search.fit(xTrain, yTrain)\n",
    "best_logistic_model = logistic_grid_search.best_estimator_\n",
    "\n",
    "# Define Voting Classifier with optimized weights\n",
    "optimized_voting_classifier = VotingClassifier(estimators=[('gradient', best_gradient_model), ('logistic', best_logistic_model)], voting='soft')\n",
    "optimized_voting_classifier.fit(xTrain, yTrain)\n",
    "\n",
    "# Evaluate performance of optimized Voting Classifier\n",
    "ensemble_predictions = optimized_voting_classifier.predict(xTest)\n",
    "evaluatePerformance(yTest, ensemble_predictions)"
   ]
  },
  {
   "cell_type": "code",
   "execution_count": null,
   "id": "9fca8d35-b3fb-469d-a583-abcf3cfa0408",
   "metadata": {},
   "outputs": [],
   "source": []
  }
 ],
 "metadata": {
  "kernelspec": {
   "display_name": "Python 3 (ipykernel)",
   "language": "python",
   "name": "python3"
  },
  "language_info": {
   "codemirror_mode": {
    "name": "ipython",
    "version": 3
   },
   "file_extension": ".py",
   "mimetype": "text/x-python",
   "name": "python",
   "nbconvert_exporter": "python",
   "pygments_lexer": "ipython3",
   "version": "3.11.4"
  }
 },
 "nbformat": 4,
 "nbformat_minor": 5
}
