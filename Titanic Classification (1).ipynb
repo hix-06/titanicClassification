{
 "cells": [
  {
   "cell_type": "code",
   "execution_count": 1,
   "id": "3ec97737-c06e-4b0b-84fb-ebe808824b24",
   "metadata": {
    "tags": []
   },
   "outputs": [
    {
     "name": "stdout",
     "output_type": "stream",
     "text": [
      "   pclass  survived                                             name     sex  \\\n",
      "0     1.0       1.0                    Allen, Miss. Elisabeth Walton  female   \n",
      "1     1.0       1.0                   Allison, Master. Hudson Trevor    male   \n",
      "2     1.0       0.0                     Allison, Miss. Helen Loraine  female   \n",
      "3     1.0       0.0             Allison, Mr. Hudson Joshua Creighton    male   \n",
      "4     1.0       0.0  Allison, Mrs. Hudson J C (Bessie Waldo Daniels)  female   \n",
      "5     1.0       1.0                              Anderson, Mr. Harry    male   \n",
      "6     1.0       1.0                Andrews, Miss. Kornelia Theodosia  female   \n",
      "7     1.0       0.0                           Andrews, Mr. Thomas Jr    male   \n",
      "8     1.0       1.0    Appleton, Mrs. Edward Dale (Charlotte Lamson)  female   \n",
      "9     1.0       0.0                          Artagaveytia, Mr. Ramon    male   \n",
      "\n",
      "       age  sibsp  parch    ticket      fare    cabin embarked boat   body  \\\n",
      "0  29.0000    0.0    0.0     24160  211.3375       B5        S    2    NaN   \n",
      "1   0.9167    1.0    2.0    113781  151.5500  C22 C26        S   11    NaN   \n",
      "2   2.0000    1.0    2.0    113781  151.5500  C22 C26        S  NaN    NaN   \n",
      "3  30.0000    1.0    2.0    113781  151.5500  C22 C26        S  NaN  135.0   \n",
      "4  25.0000    1.0    2.0    113781  151.5500  C22 C26        S  NaN    NaN   \n",
      "5  48.0000    0.0    0.0     19952   26.5500      E12        S    3    NaN   \n",
      "6  63.0000    1.0    0.0     13502   77.9583       D7        S   10    NaN   \n",
      "7  39.0000    0.0    0.0    112050    0.0000      A36        S  NaN    NaN   \n",
      "8  53.0000    2.0    0.0     11769   51.4792     C101        S    D    NaN   \n",
      "9  71.0000    0.0    0.0  PC 17609   49.5042      NaN        C  NaN   22.0   \n",
      "\n",
      "                         home.dest  \n",
      "0                     St Louis, MO  \n",
      "1  Montreal, PQ / Chesterville, ON  \n",
      "2  Montreal, PQ / Chesterville, ON  \n",
      "3  Montreal, PQ / Chesterville, ON  \n",
      "4  Montreal, PQ / Chesterville, ON  \n",
      "5                     New York, NY  \n",
      "6                       Hudson, NY  \n",
      "7                      Belfast, NI  \n",
      "8              Bayside, Queens, NY  \n",
      "9              Montevideo, Uruguay  \n"
     ]
    }
   ],
   "source": [
    "import numpy as np\n",
    "import pandas as pd\n",
    "myFrame = pd.read_csv(r\"C:\\Users\\Ahmed\\Downloads\\titanic.csv\")\n",
    "print(myFrame.head(10))"
   ]
  },
  {
   "cell_type": "code",
   "execution_count": 2,
   "id": "a72dc994-0a42-47ef-a4d2-6c351890d819",
   "metadata": {
    "tags": []
   },
   "outputs": [
    {
     "name": "stdout",
     "output_type": "stream",
     "text": [
      "num of rows: 1310\n",
      "num of columns: 14\n",
      "<class 'pandas.core.frame.DataFrame'>\n",
      "RangeIndex: 1310 entries, 0 to 1309\n",
      "Data columns (total 14 columns):\n",
      " #   Column     Non-Null Count  Dtype  \n",
      "---  ------     --------------  -----  \n",
      " 0   pclass     1309 non-null   float64\n",
      " 1   survived   1309 non-null   float64\n",
      " 2   name       1309 non-null   object \n",
      " 3   sex        1309 non-null   object \n",
      " 4   age        1046 non-null   float64\n",
      " 5   sibsp      1309 non-null   float64\n",
      " 6   parch      1309 non-null   float64\n",
      " 7   ticket     1309 non-null   object \n",
      " 8   fare       1308 non-null   float64\n",
      " 9   cabin      295 non-null    object \n",
      " 10  embarked   1307 non-null   object \n",
      " 11  boat       486 non-null    object \n",
      " 12  body       121 non-null    float64\n",
      " 13  home.dest  745 non-null    object \n",
      "dtypes: float64(7), object(7)\n",
      "memory usage: 143.4+ KB\n",
      "None\n",
      "Index(['pclass', 'survived', 'name', 'sex', 'age', 'sibsp', 'parch', 'ticket',\n",
      "       'fare', 'cabin', 'embarked', 'boat', 'body', 'home.dest'],\n",
      "      dtype='object')\n"
     ]
    }
   ],
   "source": [
    "print(f\"num of rows: {myFrame.shape[0]}\")\n",
    "print(f\"num of columns: {myFrame.shape[1]}\")\n",
    "print(myFrame.info())\n",
    "print((pd.DataFrame(myFrame)).columns)"
   ]
  },
  {
   "cell_type": "code",
   "execution_count": 3,
   "id": "52ec752b-59c4-4ed5-84a9-dde1d01ff049",
   "metadata": {
    "tags": []
   },
   "outputs": [
    {
     "name": "stdout",
     "output_type": "stream",
     "text": [
      "pclass          1\n",
      "survived        1\n",
      "name            1\n",
      "sex             1\n",
      "age           264\n",
      "sibsp           1\n",
      "parch           1\n",
      "ticket          1\n",
      "fare            2\n",
      "cabin        1015\n",
      "embarked        3\n",
      "boat          824\n",
      "body         1189\n",
      "home.dest     565\n",
      "dtype: int64\n"
     ]
    }
   ],
   "source": [
    "print(myFrame.isnull().sum())"
   ]
  },
  {
   "cell_type": "code",
   "execution_count": 6,
   "id": "20417c58-50a4-4e96-88c1-9134f50a3026",
   "metadata": {
    "tags": []
   },
   "outputs": [
    {
     "name": "stdout",
     "output_type": "stream",
     "text": [
      "<class 'pandas.core.frame.DataFrame'>\n",
      "RangeIndex: 1310 entries, 0 to 1309\n",
      "Data columns (total 14 columns):\n",
      " #   Column     Non-Null Count  Dtype  \n",
      "---  ------     --------------  -----  \n",
      " 0   pclass     1309 non-null   float64\n",
      " 1   survived   1309 non-null   float64\n",
      " 2   name       1310 non-null   int32  \n",
      " 3   sex        1310 non-null   int32  \n",
      " 4   age        1046 non-null   float64\n",
      " 5   sibsp      1309 non-null   float64\n",
      " 6   parch      1309 non-null   float64\n",
      " 7   ticket     1310 non-null   int32  \n",
      " 8   fare       1308 non-null   float64\n",
      " 9   cabin      1310 non-null   int32  \n",
      " 10  embarked   1310 non-null   int32  \n",
      " 11  boat       1310 non-null   int32  \n",
      " 12  body       121 non-null    float64\n",
      " 13  home.dest  1310 non-null   int32  \n",
      "dtypes: float64(7), int32(7)\n",
      "memory usage: 107.6 KB\n",
      "None\n"
     ]
    }
   ],
   "source": [
    "from sklearn.preprocessing import LabelEncoder\n",
    "labelEncoder = LabelEncoder()\n",
    "myFrame2 = myFrame\n",
    "i = myFrame.select_dtypes(include=['object'])\n",
    "for j in i:\n",
    "    myFrame2[j] = labelEncoder.fit_transform(myFrame[j])\n",
    "print(myFrame2.info())"
   ]
  },
  {
   "cell_type": "code",
   "execution_count": 8,
   "id": "2ca22ec5-6805-4f66-955a-c71f74d2fc78",
   "metadata": {
    "tags": []
   },
   "outputs": [
    {
     "name": "stdout",
     "output_type": "stream",
     "text": [
      "pclass          1\n",
      "survived        1\n",
      "name            0\n",
      "sex             0\n",
      "age           264\n",
      "sibsp           1\n",
      "parch           1\n",
      "ticket          0\n",
      "fare            2\n",
      "cabin           0\n",
      "embarked        0\n",
      "boat            0\n",
      "body         1189\n",
      "home.dest       0\n",
      "dtype: int64\n",
      "pclass       0\n",
      "survived     0\n",
      "name         0\n",
      "sex          0\n",
      "age          0\n",
      "sibsp        0\n",
      "parch        0\n",
      "ticket       0\n",
      "fare         0\n",
      "cabin        0\n",
      "embarked     0\n",
      "boat         0\n",
      "body         0\n",
      "home.dest    0\n",
      "dtype: int64\n"
     ]
    }
   ],
   "source": [
    "print(myFrame2.isnull().sum())\n",
    "from sklearn.impute import SimpleImputer\n",
    "imputer = SimpleImputer(strategy = \"mean\")\n",
    "myFrame3 = pd.DataFrame(imputer.fit_transform(myFrame2), columns=myFrame2.columns)# SimpleImputer returns a numpy array,\n",
    "print(myFrame3.isnull().sum())"
   ]
  },
  {
   "cell_type": "code",
   "execution_count": 9,
   "id": "9196a851-16d0-4ff9-b56f-7a2edefd6f26",
   "metadata": {
    "tags": []
   },
   "outputs": [
    {
     "name": "stdout",
     "output_type": "stream",
     "text": [
      "<class 'pandas.core.frame.DataFrame'>\n",
      "RangeIndex: 1310 entries, 0 to 1309\n",
      "Data columns (total 14 columns):\n",
      " #   Column     Non-Null Count  Dtype  \n",
      "---  ------     --------------  -----  \n",
      " 0   pclass     1310 non-null   float64\n",
      " 1   survived   1310 non-null   float64\n",
      " 2   name       1310 non-null   float64\n",
      " 3   sex        1310 non-null   float64\n",
      " 4   age        1310 non-null   float64\n",
      " 5   sibsp      1310 non-null   float64\n",
      " 6   parch      1310 non-null   float64\n",
      " 7   ticket     1310 non-null   float64\n",
      " 8   fare       1310 non-null   float64\n",
      " 9   cabin      1310 non-null   float64\n",
      " 10  embarked   1310 non-null   float64\n",
      " 11  boat       1310 non-null   float64\n",
      " 12  body       1310 non-null   float64\n",
      " 13  home.dest  1310 non-null   float64\n",
      "dtypes: float64(14)\n",
      "memory usage: 143.4 KB\n",
      "None\n"
     ]
    }
   ],
   "source": [
    "print(myFrame3.info())"
   ]
  },
  {
   "cell_type": "code",
   "execution_count": 10,
   "id": "dde71180-3d74-4050-86fa-f8f8351bb1d0",
   "metadata": {
    "tags": []
   },
   "outputs": [
    {
     "name": "stdout",
     "output_type": "stream",
     "text": [
      "   pclass  survived  name  sex      age  sibsp  parch  ticket      fare  \\\n",
      "0     1.0         1  21.0  0.0  29.0000    0.0    0.0   187.0  211.3375   \n",
      "1     1.0         1  23.0  1.0   0.9167    1.0    2.0    49.0  151.5500   \n",
      "2     1.0         0  24.0  0.0   2.0000    1.0    2.0    49.0  151.5500   \n",
      "3     1.0         0  25.0  1.0  30.0000    1.0    2.0    49.0  151.5500   \n",
      "4     1.0         0  26.0  0.0  25.0000    1.0    2.0    49.0  151.5500   \n",
      "\n",
      "   cabin  embarked  boat        body  home.dest  \n",
      "0   43.0       2.0  11.0  160.809917      308.0  \n",
      "1   79.0       2.0   2.0  160.809917      230.0  \n",
      "2   79.0       2.0  27.0  160.809917      230.0  \n",
      "3   79.0       2.0  27.0  135.000000      230.0  \n",
      "4   79.0       2.0  27.0  160.809917      230.0  \n"
     ]
    }
   ],
   "source": [
    "myFrame3['survived'] = myFrame3['survived'].astype(int) # in a logistic regression model, target shoult be discrete, \"int\"\n",
    "print(myFrame3.head(5))"
   ]
  },
  {
   "cell_type": "code",
   "execution_count": 14,
   "id": "22a3cea3-a7dd-44c8-b8c0-8f22d768c6b0",
   "metadata": {
    "tags": []
   },
   "outputs": [],
   "source": [
    "from sklearn.model_selection import train_test_split\n",
    "\n",
    "x = myFrame3.drop([\"survived\"], axis = 1)\n",
    "y = myFrame3[\"survived\"]\n",
    "\n",
    "xTrain, xTest, yTrain, yTest = train_test_split(x, y, test_size = 0.2, random_state = 42)"
   ]
  },
  {
   "cell_type": "code",
   "execution_count": 16,
   "id": "2f15a20c-264b-42ef-9e6e-b6ab5aae4c83",
   "metadata": {
    "tags": []
   },
   "outputs": [],
   "source": [
    "from sklearn.tree import DecisionTreeClassifier\n",
    "\n",
    "clf = DecisionTreeClassifier()\n",
    "clf.fit(xTrain, yTrain)\n",
    "yPredCLF = clf.predict(xTest)"
   ]
  },
  {
   "cell_type": "code",
   "execution_count": 17,
   "id": "ee816dae-13ef-45ea-bb7c-23d4fd9f3a2d",
   "metadata": {
    "tags": []
   },
   "outputs": [],
   "source": [
    "from sklearn.metrics import accuracy_score, precision_score, recall_score, f1_score\n",
    "\n",
    "def evaluatePerformance(y_true, y_pred):\n",
    "    accuracy = accuracy_score(y_true, y_pred)\n",
    "    precision = precision_score(y_true, y_pred)\n",
    "    recall = recall_score(y_true, y_pred)\n",
    "    f1 = f1_score(y_true, y_pred)\n",
    "    \n",
    "    print(f\"Accuracy: {accuracy}\")\n",
    "    print(f\"Precision: {precision}\")\n",
    "    print(f\"Recall: {recall}\")\n",
    "    print(f\"F1-score: {f1}\")"
   ]
  },
  {
   "cell_type": "code",
   "execution_count": 21,
   "id": "80c01ff8-5e54-4dfb-8d7a-386982f8591c",
   "metadata": {
    "tags": []
   },
   "outputs": [
    {
     "name": "stdout",
     "output_type": "stream",
     "text": [
      "Accuracy: 0.9694656488549618\n",
      "Precision: 0.956140350877193\n",
      "Recall: 0.9732142857142857\n",
      "F1-score: 0.9646017699115044\n",
      "None\n"
     ]
    }
   ],
   "source": [
    "print(f\"{evaluatePerformance(yTest, yPredCLF)}\")"
   ]
  },
  {
   "cell_type": "code",
   "execution_count": 26,
   "id": "d4a7ecd1-77b1-47bc-bdde-7eea6221a9bf",
   "metadata": {
    "tags": []
   },
   "outputs": [
    {
     "name": "stdout",
     "output_type": "stream",
     "text": [
      "     Predicted  Actual\n",
      "701          0       0\n",
      "994          0       0\n",
      "350          1       1\n",
      "986          0       0\n",
      "409          0       0\n",
      "..         ...     ...\n",
      "209          1       1\n",
      "306          0       0\n",
      "140          1       1\n",
      "919          0       0\n",
      "982          0       0\n",
      "\n",
      "[262 rows x 2 columns]\n"
     ]
    }
   ],
   "source": [
    "comp = pd.DataFrame({'Predicted': yPredCLF, 'Actual': yTest})\n",
    "print(comp)"
   ]
  },
  {
   "cell_type": "code",
   "execution_count": 27,
   "id": "496860f6-084c-41a5-a1d6-c1275837a15f",
   "metadata": {
    "tags": []
   },
   "outputs": [],
   "source": [
    "from sklearn.ensemble import GradientBoostingClassifier, VotingClassifier\n",
    "gradientModel = GradientBoostingClassifier()\n",
    "\n",
    "gradientModel.fit(xTrain, yTrain)\n",
    "yPredGrad = gradientModel.predict(xTest)"
   ]
  },
  {
   "cell_type": "code",
   "execution_count": 28,
   "id": "0580193f-1f1b-4239-a9e9-0464b277ee0e",
   "metadata": {
    "tags": []
   },
   "outputs": [
    {
     "name": "stdout",
     "output_type": "stream",
     "text": [
      "Accuracy: 0.9732824427480916\n",
      "Precision: 0.9646017699115044\n",
      "Recall: 0.9732142857142857\n",
      "F1-score: 0.9688888888888889\n",
      "None\n"
     ]
    }
   ],
   "source": [
    "print(f\"{evaluatePerformance(yTest, yPredGrad)}\")"
   ]
  },
  {
   "cell_type": "code",
   "execution_count": 31,
   "id": "93d618cc-7eaf-496d-a31d-39efc54e41d7",
   "metadata": {
    "tags": []
   },
   "outputs": [
    {
     "name": "stdout",
     "output_type": "stream",
     "text": [
      "Accuracy: 0.9732824427480916\n",
      "Precision: 0.9646017699115044\n",
      "Recall: 0.9732142857142857\n",
      "F1-score: 0.9688888888888889\n"
     ]
    }
   ],
   "source": [
    "votingClassifier = VotingClassifier(estimators=[('gradient', gradientModel), ('decision_tree', clf)], voting='hard')\n",
    "votingClassifier.fit(xTrain, yTrain)\n",
    "yPredEnse = votingClassifier.predict(xTest)\n",
    "\n",
    "evaluatePerformance(yTest, yPredEnse)"
   ]
  },
  {
   "cell_type": "code",
   "execution_count": null,
   "id": "a37076e7-d5b2-4624-b270-ac01c7ae7613",
   "metadata": {},
   "outputs": [],
   "source": []
  }
 ],
 "metadata": {
  "kernelspec": {
   "display_name": "Python 3 (ipykernel)",
   "language": "python",
   "name": "python3"
  },
  "language_info": {
   "codemirror_mode": {
    "name": "ipython",
    "version": 3
   },
   "file_extension": ".py",
   "mimetype": "text/x-python",
   "name": "python",
   "nbconvert_exporter": "python",
   "pygments_lexer": "ipython3",
   "version": "3.11.4"
  }
 },
 "nbformat": 4,
 "nbformat_minor": 5
}
